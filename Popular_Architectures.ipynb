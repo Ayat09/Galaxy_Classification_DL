{
 "cells": [
  {
   "cell_type": "code",
   "execution_count": 1,
   "id": "c44ce98b-45b1-415d-ad4e-fd233e3711aa",
   "metadata": {},
   "outputs": [
    {
     "name": "stdout",
     "output_type": "stream",
     "text": [
      "Requirement already satisfied: astroNN in c:\\users\\first one\\anaconda3\\envs\\ayat\\lib\\site-packages (1.1.0)\n",
      "Requirement already satisfied: numpy in c:\\users\\first one\\anaconda3\\envs\\ayat\\lib\\site-packages (from astroNN) (1.25.2)\n",
      "Requirement already satisfied: astropy in c:\\users\\first one\\anaconda3\\envs\\ayat\\lib\\site-packages (from astroNN) (6.0.0)\n",
      "Requirement already satisfied: h5py in c:\\users\\first one\\anaconda3\\envs\\ayat\\lib\\site-packages (from astroNN) (3.10.0)\n",
      "Requirement already satisfied: matplotlib in c:\\users\\first one\\anaconda3\\envs\\ayat\\lib\\site-packages (from astroNN) (3.8.2)\n",
      "Requirement already satisfied: astroquery in c:\\users\\first one\\anaconda3\\envs\\ayat\\lib\\site-packages (from astroNN) (0.4.7)\n",
      "Requirement already satisfied: pandas in c:\\users\\first one\\anaconda3\\envs\\ayat\\lib\\site-packages (from astroNN) (2.1.4)\n",
      "Requirement already satisfied: scikit-learn in c:\\users\\first one\\anaconda3\\envs\\ayat\\lib\\site-packages (from astroNN) (1.3.2)\n",
      "Requirement already satisfied: tqdm in c:\\users\\first one\\anaconda3\\envs\\ayat\\lib\\site-packages (from astroNN) (4.65.0)\n",
      "Requirement already satisfied: packaging in c:\\users\\first one\\appdata\\roaming\\python\\python311\\site-packages (from astroNN) (23.2)\n",
      "Requirement already satisfied: tensorflow>=2.11.0 in c:\\users\\first one\\anaconda3\\envs\\ayat\\lib\\site-packages (from astroNN) (2.15.0)\n",
      "Requirement already satisfied: tensorflow-probability>=0.19.0 in c:\\users\\first one\\anaconda3\\envs\\ayat\\lib\\site-packages (from astroNN) (0.24.0)\n",
      "Requirement already satisfied: tensorflow-intel==2.15.0 in c:\\users\\first one\\anaconda3\\envs\\ayat\\lib\\site-packages (from tensorflow>=2.11.0->astroNN) (2.15.0)\n",
      "Requirement already satisfied: absl-py>=1.0.0 in c:\\users\\first one\\anaconda3\\envs\\ayat\\lib\\site-packages (from tensorflow-intel==2.15.0->tensorflow>=2.11.0->astroNN) (2.0.0)\n",
      "Requirement already satisfied: astunparse>=1.6.0 in c:\\users\\first one\\anaconda3\\envs\\ayat\\lib\\site-packages (from tensorflow-intel==2.15.0->tensorflow>=2.11.0->astroNN) (1.6.3)\n",
      "Requirement already satisfied: flatbuffers>=23.5.26 in c:\\users\\first one\\anaconda3\\envs\\ayat\\lib\\site-packages (from tensorflow-intel==2.15.0->tensorflow>=2.11.0->astroNN) (23.5.26)\n",
      "Requirement already satisfied: gast!=0.5.0,!=0.5.1,!=0.5.2,>=0.2.1 in c:\\users\\first one\\anaconda3\\envs\\ayat\\lib\\site-packages (from tensorflow-intel==2.15.0->tensorflow>=2.11.0->astroNN) (0.5.4)\n",
      "Requirement already satisfied: google-pasta>=0.1.1 in c:\\users\\first one\\anaconda3\\envs\\ayat\\lib\\site-packages (from tensorflow-intel==2.15.0->tensorflow>=2.11.0->astroNN) (0.2.0)\n",
      "Requirement already satisfied: libclang>=13.0.0 in c:\\users\\first one\\anaconda3\\envs\\ayat\\lib\\site-packages (from tensorflow-intel==2.15.0->tensorflow>=2.11.0->astroNN) (16.0.6)\n",
      "Requirement already satisfied: ml-dtypes~=0.2.0 in c:\\users\\first one\\anaconda3\\envs\\ayat\\lib\\site-packages (from tensorflow-intel==2.15.0->tensorflow>=2.11.0->astroNN) (0.2.0)\n",
      "Requirement already satisfied: opt-einsum>=2.3.2 in c:\\users\\first one\\anaconda3\\envs\\ayat\\lib\\site-packages (from tensorflow-intel==2.15.0->tensorflow>=2.11.0->astroNN) (3.3.0)\n",
      "Requirement already satisfied: protobuf!=4.21.0,!=4.21.1,!=4.21.2,!=4.21.3,!=4.21.4,!=4.21.5,<5.0.0dev,>=3.20.3 in c:\\users\\first one\\anaconda3\\envs\\ayat\\lib\\site-packages (from tensorflow-intel==2.15.0->tensorflow>=2.11.0->astroNN) (4.23.4)\n",
      "Requirement already satisfied: setuptools in c:\\users\\first one\\anaconda3\\envs\\ayat\\lib\\site-packages (from tensorflow-intel==2.15.0->tensorflow>=2.11.0->astroNN) (68.2.2)\n",
      "Requirement already satisfied: six>=1.12.0 in c:\\users\\first one\\appdata\\roaming\\python\\python311\\site-packages (from tensorflow-intel==2.15.0->tensorflow>=2.11.0->astroNN) (1.16.0)\n",
      "Requirement already satisfied: termcolor>=1.1.0 in c:\\users\\first one\\anaconda3\\envs\\ayat\\lib\\site-packages (from tensorflow-intel==2.15.0->tensorflow>=2.11.0->astroNN) (2.4.0)\n",
      "Requirement already satisfied: typing-extensions>=3.6.6 in c:\\users\\first one\\anaconda3\\envs\\ayat\\lib\\site-packages (from tensorflow-intel==2.15.0->tensorflow>=2.11.0->astroNN) (4.7.1)\n",
      "Requirement already satisfied: wrapt<1.15,>=1.11.0 in c:\\users\\first one\\anaconda3\\envs\\ayat\\lib\\site-packages (from tensorflow-intel==2.15.0->tensorflow>=2.11.0->astroNN) (1.14.1)\n",
      "Requirement already satisfied: tensorflow-io-gcs-filesystem>=0.23.1 in c:\\users\\first one\\anaconda3\\envs\\ayat\\lib\\site-packages (from tensorflow-intel==2.15.0->tensorflow>=2.11.0->astroNN) (0.31.0)\n",
      "Requirement already satisfied: grpcio<2.0,>=1.24.3 in c:\\users\\first one\\anaconda3\\envs\\ayat\\lib\\site-packages (from tensorflow-intel==2.15.0->tensorflow>=2.11.0->astroNN) (1.60.0)\n",
      "Requirement already satisfied: tensorboard<2.16,>=2.15 in c:\\users\\first one\\anaconda3\\envs\\ayat\\lib\\site-packages (from tensorflow-intel==2.15.0->tensorflow>=2.11.0->astroNN) (2.15.1)\n",
      "Requirement already satisfied: tensorflow-estimator<2.16,>=2.15.0 in c:\\users\\first one\\anaconda3\\envs\\ayat\\lib\\site-packages (from tensorflow-intel==2.15.0->tensorflow>=2.11.0->astroNN) (2.15.0)\n",
      "Requirement already satisfied: keras<2.16,>=2.15.0 in c:\\users\\first one\\anaconda3\\envs\\ayat\\lib\\site-packages (from tensorflow-intel==2.15.0->tensorflow>=2.11.0->astroNN) (2.15.0)\n",
      "Requirement already satisfied: decorator in c:\\users\\first one\\appdata\\roaming\\python\\python311\\site-packages (from tensorflow-probability>=0.19.0->astroNN) (5.1.1)\n",
      "Requirement already satisfied: cloudpickle>=1.3 in c:\\users\\first one\\anaconda3\\envs\\ayat\\lib\\site-packages (from tensorflow-probability>=0.19.0->astroNN) (3.0.0)\n",
      "Requirement already satisfied: dm-tree in c:\\users\\first one\\anaconda3\\envs\\ayat\\lib\\site-packages (from tensorflow-probability>=0.19.0->astroNN) (0.1.8)\n",
      "Requirement already satisfied: pyerfa>=2.0 in c:\\users\\first one\\anaconda3\\envs\\ayat\\lib\\site-packages (from astropy->astroNN) (2.0.1.1)\n",
      "Requirement already satisfied: astropy-iers-data>=0.2023.10.30.0.29.53 in c:\\users\\first one\\anaconda3\\envs\\ayat\\lib\\site-packages (from astropy->astroNN) (0.2024.3.18.0.29.47)\n",
      "Requirement already satisfied: PyYAML>=3.13 in c:\\users\\first one\\anaconda3\\envs\\ayat\\lib\\site-packages (from astropy->astroNN) (6.0.1)\n",
      "Requirement already satisfied: requests>=2.19 in c:\\users\\first one\\anaconda3\\envs\\ayat\\lib\\site-packages (from astroquery->astroNN) (2.31.0)\n",
      "Requirement already satisfied: beautifulsoup4>=4.8 in c:\\users\\first one\\anaconda3\\envs\\ayat\\lib\\site-packages (from astroquery->astroNN) (4.12.2)\n",
      "Requirement already satisfied: html5lib>=0.999 in c:\\users\\first one\\anaconda3\\envs\\ayat\\lib\\site-packages (from astroquery->astroNN) (1.1)\n",
      "Requirement already satisfied: keyring>=15.0 in c:\\users\\first one\\anaconda3\\envs\\ayat\\lib\\site-packages (from astroquery->astroNN) (24.3.1)\n",
      "Requirement already satisfied: pyvo>=1.1 in c:\\users\\first one\\anaconda3\\envs\\ayat\\lib\\site-packages (from astroquery->astroNN) (1.5.1)\n",
      "Requirement already satisfied: contourpy>=1.0.1 in c:\\users\\first one\\anaconda3\\envs\\ayat\\lib\\site-packages (from matplotlib->astroNN) (1.2.0)\n",
      "Requirement already satisfied: cycler>=0.10 in c:\\users\\first one\\anaconda3\\envs\\ayat\\lib\\site-packages (from matplotlib->astroNN) (0.12.1)\n",
      "Requirement already satisfied: fonttools>=4.22.0 in c:\\users\\first one\\anaconda3\\envs\\ayat\\lib\\site-packages (from matplotlib->astroNN) (4.47.0)\n",
      "Requirement already satisfied: kiwisolver>=1.3.1 in c:\\users\\first one\\anaconda3\\envs\\ayat\\lib\\site-packages (from matplotlib->astroNN) (1.4.5)\n",
      "Requirement already satisfied: pillow>=8 in c:\\users\\first one\\anaconda3\\envs\\ayat\\lib\\site-packages (from matplotlib->astroNN) (10.2.0)\n",
      "Requirement already satisfied: pyparsing>=2.3.1 in c:\\users\\first one\\anaconda3\\envs\\ayat\\lib\\site-packages (from matplotlib->astroNN) (3.1.1)\n",
      "Requirement already satisfied: python-dateutil>=2.7 in c:\\users\\first one\\appdata\\roaming\\python\\python311\\site-packages (from matplotlib->astroNN) (2.8.2)\n",
      "Requirement already satisfied: pytz>=2020.1 in c:\\users\\first one\\anaconda3\\envs\\ayat\\lib\\site-packages (from pandas->astroNN) (2023.3.post1)\n",
      "Requirement already satisfied: tzdata>=2022.1 in c:\\users\\first one\\anaconda3\\envs\\ayat\\lib\\site-packages (from pandas->astroNN) (2023.4)\n",
      "Requirement already satisfied: scipy>=1.5.0 in c:\\users\\first one\\anaconda3\\envs\\ayat\\lib\\site-packages (from scikit-learn->astroNN) (1.11.4)\n",
      "Requirement already satisfied: joblib>=1.1.1 in c:\\users\\first one\\anaconda3\\envs\\ayat\\lib\\site-packages (from scikit-learn->astroNN) (1.3.2)\n",
      "Requirement already satisfied: threadpoolctl>=2.0.0 in c:\\users\\first one\\anaconda3\\envs\\ayat\\lib\\site-packages (from scikit-learn->astroNN) (3.2.0)\n",
      "Requirement already satisfied: colorama in c:\\users\\first one\\appdata\\roaming\\python\\python311\\site-packages (from tqdm->astroNN) (0.4.6)\n",
      "Requirement already satisfied: soupsieve>1.2 in c:\\users\\first one\\anaconda3\\envs\\ayat\\lib\\site-packages (from beautifulsoup4>=4.8->astroquery->astroNN) (2.5)\n",
      "Requirement already satisfied: webencodings in c:\\users\\first one\\anaconda3\\envs\\ayat\\lib\\site-packages (from html5lib>=0.999->astroquery->astroNN) (0.5.1)\n",
      "Requirement already satisfied: jaraco.classes in c:\\users\\first one\\anaconda3\\envs\\ayat\\lib\\site-packages (from keyring>=15.0->astroquery->astroNN) (3.3.1)\n",
      "Requirement already satisfied: importlib-metadata>=4.11.4 in c:\\users\\first one\\anaconda3\\envs\\ayat\\lib\\site-packages (from keyring>=15.0->astroquery->astroNN) (7.0.1)\n",
      "Requirement already satisfied: pywin32-ctypes>=0.2.0 in c:\\users\\first one\\anaconda3\\envs\\ayat\\lib\\site-packages (from keyring>=15.0->astroquery->astroNN) (0.2.2)\n",
      "Requirement already satisfied: charset-normalizer<4,>=2 in c:\\users\\first one\\anaconda3\\envs\\ayat\\lib\\site-packages (from requests>=2.19->astroquery->astroNN) (2.0.4)\n",
      "Requirement already satisfied: idna<4,>=2.5 in c:\\users\\first one\\anaconda3\\envs\\ayat\\lib\\site-packages (from requests>=2.19->astroquery->astroNN) (2.10)\n",
      "Requirement already satisfied: urllib3<3,>=1.21.1 in c:\\users\\first one\\anaconda3\\envs\\ayat\\lib\\site-packages (from requests>=2.19->astroquery->astroNN) (1.26.18)\n",
      "Requirement already satisfied: certifi>=2017.4.17 in c:\\users\\first one\\anaconda3\\envs\\ayat\\lib\\site-packages (from requests>=2.19->astroquery->astroNN) (2023.11.17)\n",
      "Requirement already satisfied: wheel<1.0,>=0.23.0 in c:\\users\\first one\\anaconda3\\envs\\ayat\\lib\\site-packages (from astunparse>=1.6.0->tensorflow-intel==2.15.0->tensorflow>=2.11.0->astroNN) (0.41.2)\n",
      "Requirement already satisfied: zipp>=0.5 in c:\\users\\first one\\anaconda3\\envs\\ayat\\lib\\site-packages (from importlib-metadata>=4.11.4->keyring>=15.0->astroquery->astroNN) (3.17.0)\n",
      "Requirement already satisfied: google-auth<3,>=1.6.3 in c:\\users\\first one\\anaconda3\\envs\\ayat\\lib\\site-packages (from tensorboard<2.16,>=2.15->tensorflow-intel==2.15.0->tensorflow>=2.11.0->astroNN) (2.26.2)\n",
      "Requirement already satisfied: google-auth-oauthlib<2,>=0.5 in c:\\users\\first one\\anaconda3\\envs\\ayat\\lib\\site-packages (from tensorboard<2.16,>=2.15->tensorflow-intel==2.15.0->tensorflow>=2.11.0->astroNN) (1.2.0)\n",
      "Requirement already satisfied: markdown>=2.6.8 in c:\\users\\first one\\anaconda3\\envs\\ayat\\lib\\site-packages (from tensorboard<2.16,>=2.15->tensorflow-intel==2.15.0->tensorflow>=2.11.0->astroNN) (3.5.2)\n",
      "Requirement already satisfied: tensorboard-data-server<0.8.0,>=0.7.0 in c:\\users\\first one\\anaconda3\\envs\\ayat\\lib\\site-packages (from tensorboard<2.16,>=2.15->tensorflow-intel==2.15.0->tensorflow>=2.11.0->astroNN) (0.7.2)\n",
      "Requirement already satisfied: werkzeug>=1.0.1 in c:\\users\\first one\\anaconda3\\envs\\ayat\\lib\\site-packages (from tensorboard<2.16,>=2.15->tensorflow-intel==2.15.0->tensorflow>=2.11.0->astroNN) (3.0.1)\n",
      "Requirement already satisfied: more-itertools in c:\\users\\first one\\anaconda3\\envs\\ayat\\lib\\site-packages (from jaraco.classes->keyring>=15.0->astroquery->astroNN) (10.2.0)\n",
      "Requirement already satisfied: cachetools<6.0,>=2.0.0 in c:\\users\\first one\\anaconda3\\envs\\ayat\\lib\\site-packages (from google-auth<3,>=1.6.3->tensorboard<2.16,>=2.15->tensorflow-intel==2.15.0->tensorflow>=2.11.0->astroNN) (5.3.2)\n",
      "Requirement already satisfied: pyasn1-modules>=0.2.1 in c:\\users\\first one\\anaconda3\\envs\\ayat\\lib\\site-packages (from google-auth<3,>=1.6.3->tensorboard<2.16,>=2.15->tensorflow-intel==2.15.0->tensorflow>=2.11.0->astroNN) (0.3.0)\n",
      "Requirement already satisfied: rsa<5,>=3.1.4 in c:\\users\\first one\\anaconda3\\envs\\ayat\\lib\\site-packages (from google-auth<3,>=1.6.3->tensorboard<2.16,>=2.15->tensorflow-intel==2.15.0->tensorflow>=2.11.0->astroNN) (4.9)\n",
      "Requirement already satisfied: requests-oauthlib>=0.7.0 in c:\\users\\first one\\anaconda3\\envs\\ayat\\lib\\site-packages (from google-auth-oauthlib<2,>=0.5->tensorboard<2.16,>=2.15->tensorflow-intel==2.15.0->tensorflow>=2.11.0->astroNN) (1.3.1)\n",
      "Requirement already satisfied: MarkupSafe>=2.1.1 in c:\\users\\first one\\anaconda3\\envs\\ayat\\lib\\site-packages (from werkzeug>=1.0.1->tensorboard<2.16,>=2.15->tensorflow-intel==2.15.0->tensorflow>=2.11.0->astroNN) (2.1.3)\n",
      "Requirement already satisfied: pyasn1<0.6.0,>=0.4.6 in c:\\users\\first one\\anaconda3\\envs\\ayat\\lib\\site-packages (from pyasn1-modules>=0.2.1->google-auth<3,>=1.6.3->tensorboard<2.16,>=2.15->tensorflow-intel==2.15.0->tensorflow>=2.11.0->astroNN) (0.5.1)\n",
      "Requirement already satisfied: oauthlib>=3.0.0 in c:\\users\\first one\\anaconda3\\envs\\ayat\\lib\\site-packages (from requests-oauthlib>=0.7.0->google-auth-oauthlib<2,>=0.5->tensorboard<2.16,>=2.15->tensorflow-intel==2.15.0->tensorflow>=2.11.0->astroNN) (3.2.2)\n",
      "WARNING:tensorflow:From C:\\Users\\First One\\anaconda3\\envs\\ayat\\Lib\\site-packages\\keras\\src\\losses.py:2976: The name tf.losses.sparse_softmax_cross_entropy is deprecated. Please use tf.compat.v1.losses.sparse_softmax_cross_entropy instead.\n",
      "\n"
     ]
    },
    {
     "ename": "ModuleNotFoundError",
     "evalue": "No module named 'torch'",
     "output_type": "error",
     "traceback": [
      "\u001b[1;31m---------------------------------------------------------------------------\u001b[0m",
      "\u001b[1;31mModuleNotFoundError\u001b[0m                       Traceback (most recent call last)",
      "Cell \u001b[1;32mIn[1], line 11\u001b[0m\n\u001b[0;32m      9\u001b[0m \u001b[38;5;28;01mimport\u001b[39;00m \u001b[38;5;21;01mtime\u001b[39;00m\n\u001b[0;32m     10\u001b[0m \u001b[38;5;28;01mfrom\u001b[39;00m \u001b[38;5;21;01mkeras\u001b[39;00m\u001b[38;5;21;01m.\u001b[39;00m\u001b[38;5;21;01mpreprocessing\u001b[39;00m\u001b[38;5;21;01m.\u001b[39;00m\u001b[38;5;21;01mimage\u001b[39;00m \u001b[38;5;28;01mimport\u001b[39;00m ImageDataGenerator\n\u001b[1;32m---> 11\u001b[0m \u001b[38;5;28;01mimport\u001b[39;00m \u001b[38;5;21;01mtorch\u001b[39;00m\n\u001b[0;32m     12\u001b[0m \u001b[38;5;28;01mimport\u001b[39;00m \u001b[38;5;21;01mtorchvision\u001b[39;00m\u001b[38;5;21;01m.\u001b[39;00m\u001b[38;5;21;01mmodels\u001b[39;00m \u001b[38;5;28;01mas\u001b[39;00m \u001b[38;5;21;01mmodels\u001b[39;00m\n",
      "\u001b[1;31mModuleNotFoundError\u001b[0m: No module named 'torch'"
     ]
    }
   ],
   "source": [
    "! pip install astroNN\n",
    "import tensorflow as tf\n",
    "import matplotlib.pyplot as plt\n",
    "import pandas as pd\n",
    "import seaborn as sns\n",
    "import numpy as np\n",
    "from tensorflow import keras\n",
    "import cv2\n",
    "import time\n",
    "from keras.preprocessing.image import ImageDataGenerator\n",
    "import torch\n",
    "import torchvision.models as models"
   ]
  },
  {
   "cell_type": "code",
   "execution_count": 2,
   "id": "53f74a33-dd8a-4931-b1ad-b34ef96da6f8",
   "metadata": {},
   "outputs": [],
   "source": [
    "from keras.models import Sequential\n",
    "from keras.layers import Conv2D, AveragePooling2D, MaxPooling2D, Flatten, Dense, Dropout, MaxPool2D,BatchNormalization\n",
    "from keras.callbacks import ReduceLROnPlateau\n",
    "from keras.optimizers import Adam\n",
    "\n",
    "import sklearn\n",
    "from sklearn.model_selection import train_test_split\n",
    "from sklearn.metrics import classification_report,confusion_matrix\n",
    "from tensorflow.keras import utils\n",
    "\n",
    "from astroNN.datasets import galaxy10\n",
    "from astroNN.datasets.galaxy10 import galaxy10cls_lookup\n",
    "from tensorflow.keras import models, layers\n",
    "from tensorflow.keras.callbacks import EarlyStopping\n",
    "from tensorflow.keras.applications import VGG16\n",
    "from tensorflow.keras.applications import ResNet50\n",
    "from tensorflow.keras.applications import InceptionV3\n",
    "from tensorflow.keras.applications import MobileNet\n",
    "from tensorflow.keras.applications import MobileNetV2\n",
    "from keras.applications import EfficientNetB0\n",
    "from tensorflow.keras.models import Model"
   ]
  },
  {
   "cell_type": "code",
   "execution_count": 3,
   "id": "ed6ee354-f5a0-45db-a3f2-c576ecd79ced",
   "metadata": {},
   "outputs": [
    {
     "name": "stdout",
     "output_type": "stream",
     "text": [
      "C:\\Users\\First One\\.astroNN\\datasets\\Galaxy10_DECals.h5 was found!\n"
     ]
    }
   ],
   "source": [
    "images, labels = galaxy10.load_data()"
   ]
  },
  {
   "cell_type": "code",
   "execution_count": 4,
   "id": "63e03fd1-d56f-42ce-9002-ee8303d4395c",
   "metadata": {},
   "outputs": [],
   "source": [
    "def resize_image(images):\n",
    "    resized_images = []\n",
    "    for image in images:\n",
    "        resized_image = cv2.resize(image, (64, 64))\n",
    "        resized_images.append(resized_image)\n",
    "    \n",
    "    resized_images = np.array(resized_images)\n",
    "    return resized_images"
   ]
  },
  {
   "cell_type": "code",
   "execution_count": 5,
   "id": "5c1e6f24-0860-4ce4-bb9d-baa9d962d8ec",
   "metadata": {},
   "outputs": [],
   "source": [
    "def normalize_data(x):\n",
    "    x = np.array(x)\n",
    "    x_normalized = (x.astype(np.float32) - 127.5)/127.5\n",
    "    return x_normalized"
   ]
  },
  {
   "cell_type": "code",
   "execution_count": 6,
   "id": "8be3c051-c400-4a9c-ade4-361c8c48acbb",
   "metadata": {},
   "outputs": [],
   "source": [
    "resized_images = resize_image(images)\n",
    "normalized_images = normalize_data(resized_images)"
   ]
  },
  {
   "cell_type": "code",
   "execution_count": 15,
   "id": "07c0df9c-6d44-4008-840b-95203bff6370",
   "metadata": {},
   "outputs": [],
   "source": [
    "def best_model():\n",
    "    model = Sequential()\n",
    "    model.add(Conv2D(32, (3, 3), activation='relu', padding='same', input_shape=(64, 64, 3)))\n",
    "    model.add(MaxPooling2D((2, 2)))\n",
    "    model.add(Conv2D(64, (3, 3), activation='relu', padding='same'))\n",
    "    model.add(MaxPooling2D((2, 2)))\n",
    "    model.add(Conv2D(128, (3, 3), activation='relu', padding='same'))\n",
    "    model.add(MaxPooling2D((2, 2)))\n",
    "    model.add(Conv2D(256, (3, 3), activation='relu', padding='same'))\n",
    "    model.add(MaxPooling2D((2, 2)))\n",
    "    model.add(Flatten())\n",
    "    model.add(Dense(512, activation='relu'))\n",
    "    model.add(Dropout(0.4))\n",
    "    model.add(Dense(256, activation='relu'))\n",
    "    model.add(Dropout(0.4))\n",
    "    model.add(Dense(10, activation='softmax'))\n",
    "    return model"
   ]
  },
  {
   "cell_type": "code",
   "execution_count": 16,
   "id": "44b61018-022d-47a6-89e9-96b5583f13e1",
   "metadata": {},
   "outputs": [],
   "source": [
    "model_basic = best_model()"
   ]
  },
  {
   "cell_type": "code",
   "execution_count": 77,
   "id": "46079d95-1304-4d24-96c3-97cebd52c45c",
   "metadata": {},
   "outputs": [
    {
     "name": "stdout",
     "output_type": "stream",
     "text": [
      "Model: \"sequential_1\"\n",
      "_________________________________________________________________\n",
      " Layer (type)                Output Shape              Param #   \n",
      "=================================================================\n",
      " conv2d_4 (Conv2D)           (None, 64, 64, 32)        896       \n",
      "                                                                 \n",
      " max_pooling2d_4 (MaxPoolin  (None, 32, 32, 32)        0         \n",
      " g2D)                                                            \n",
      "                                                                 \n",
      " conv2d_5 (Conv2D)           (None, 32, 32, 64)        18496     \n",
      "                                                                 \n",
      " max_pooling2d_5 (MaxPoolin  (None, 16, 16, 64)        0         \n",
      " g2D)                                                            \n",
      "                                                                 \n",
      " conv2d_6 (Conv2D)           (None, 16, 16, 128)       73856     \n",
      "                                                                 \n",
      " max_pooling2d_6 (MaxPoolin  (None, 8, 8, 128)         0         \n",
      " g2D)                                                            \n",
      "                                                                 \n",
      " conv2d_7 (Conv2D)           (None, 8, 8, 256)         295168    \n",
      "                                                                 \n",
      " max_pooling2d_7 (MaxPoolin  (None, 4, 4, 256)         0         \n",
      " g2D)                                                            \n",
      "                                                                 \n",
      " flatten_1 (Flatten)         (None, 4096)              0         \n",
      "                                                                 \n",
      " dense_3 (Dense)             (None, 512)               2097664   \n",
      "                                                                 \n",
      " dropout_2 (Dropout)         (None, 512)               0         \n",
      "                                                                 \n",
      " dense_4 (Dense)             (None, 256)               131328    \n",
      "                                                                 \n",
      " dropout_3 (Dropout)         (None, 256)               0         \n",
      "                                                                 \n",
      " dense_5 (Dense)             (None, 10)                2570      \n",
      "                                                                 \n",
      "=================================================================\n",
      "Total params: 2619978 (9.99 MB)\n",
      "Trainable params: 2619978 (9.99 MB)\n",
      "Non-trainable params: 0 (0.00 Byte)\n",
      "_________________________________________________________________\n"
     ]
    }
   ],
   "source": [
    "model_basic.summary()"
   ]
  },
  {
   "cell_type": "code",
   "execution_count": 17,
   "id": "14bb15a5-4629-40c1-aa50-d288c8139fa0",
   "metadata": {},
   "outputs": [],
   "source": [
    "model_basic.compile(loss='sparse_categorical_crossentropy', optimizer='adam', metrics=['accuracy'])"
   ]
  },
  {
   "cell_type": "code",
   "execution_count": 18,
   "id": "b7b125f0-077c-4728-ba10-dc092c33681b",
   "metadata": {},
   "outputs": [],
   "source": [
    "x_train, x_test, y_train, y_test = train_test_split(normalized_images, labels, test_size=0.2,random_state=42,stratify=labels)"
   ]
  },
  {
   "cell_type": "code",
   "execution_count": 19,
   "id": "a94af9e5-8167-4c24-915e-a340e776e94a",
   "metadata": {},
   "outputs": [],
   "source": [
    "x_train, x_val, y_train, y_val = train_test_split(x_train, y_train, test_size=0.2, random_state=42,stratify=y_train)"
   ]
  },
  {
   "cell_type": "code",
   "execution_count": 20,
   "id": "a4a48b5d-e301-4c60-9f0a-1876ed7b906e",
   "metadata": {},
   "outputs": [],
   "source": [
    "datagen = ImageDataGenerator(\n",
    "    rotation_range=15,\n",
    "    width_shift_range=0.1,\n",
    "    height_shift_range=0.1,\n",
    "    horizontal_flip=True\n",
    ")\n",
    "datagen.fit(x_train)"
   ]
  },
  {
   "cell_type": "code",
   "execution_count": 21,
   "id": "22d9e078-7ddc-4602-be6b-975233c5e2b1",
   "metadata": {},
   "outputs": [],
   "source": [
    "early_stopping = EarlyStopping(monitor='val_loss', patience=3, restore_best_weights=True)"
   ]
  },
  {
   "cell_type": "code",
   "execution_count": 22,
   "id": "f5dd3c8b-0343-4ae1-ab53-5c32bc8ec6f3",
   "metadata": {},
   "outputs": [
    {
     "name": "stdout",
     "output_type": "stream",
     "text": [
      "Epoch 1/20\n",
      "355/355 [==============================] - 75s 198ms/step - loss: 1.9950 - accuracy: 0.2481 - val_loss: 1.9305 - val_accuracy: 0.2555\n",
      "Epoch 2/20\n",
      "355/355 [==============================] - 70s 197ms/step - loss: 1.5299 - accuracy: 0.4183 - val_loss: 1.3625 - val_accuracy: 0.4796\n",
      "Epoch 3/20\n",
      "355/355 [==============================] - 70s 197ms/step - loss: 1.3433 - accuracy: 0.5013 - val_loss: 1.1709 - val_accuracy: 0.5624\n",
      "Epoch 4/20\n",
      "355/355 [==============================] - 69s 195ms/step - loss: 1.2179 - accuracy: 0.5581 - val_loss: 1.1379 - val_accuracy: 0.5881\n",
      "Epoch 5/20\n",
      "355/355 [==============================] - 70s 197ms/step - loss: 1.1295 - accuracy: 0.6003 - val_loss: 1.0742 - val_accuracy: 0.6180\n",
      "Epoch 6/20\n",
      "355/355 [==============================] - 70s 197ms/step - loss: 1.0628 - accuracy: 0.6337 - val_loss: 1.0205 - val_accuracy: 0.6367\n",
      "Epoch 7/20\n",
      "355/355 [==============================] - 69s 195ms/step - loss: 1.0029 - accuracy: 0.6493 - val_loss: 0.9777 - val_accuracy: 0.6529\n",
      "Epoch 8/20\n",
      "355/355 [==============================] - 69s 196ms/step - loss: 0.9725 - accuracy: 0.6664 - val_loss: 0.9512 - val_accuracy: 0.6681\n",
      "Epoch 9/20\n",
      "355/355 [==============================] - 69s 195ms/step - loss: 0.9187 - accuracy: 0.6852 - val_loss: 0.8726 - val_accuracy: 0.6924\n",
      "Epoch 10/20\n",
      "355/355 [==============================] - 70s 196ms/step - loss: 0.8981 - accuracy: 0.6859 - val_loss: 0.9135 - val_accuracy: 0.6896\n",
      "Epoch 11/20\n",
      "355/355 [==============================] - 69s 195ms/step - loss: 0.8823 - accuracy: 0.6942 - val_loss: 0.9263 - val_accuracy: 0.6667\n",
      "Epoch 12/20\n",
      "355/355 [==============================] - 70s 196ms/step - loss: 0.8428 - accuracy: 0.7075 - val_loss: 0.8190 - val_accuracy: 0.7167\n",
      "Epoch 13/20\n",
      "355/355 [==============================] - 70s 196ms/step - loss: 0.8286 - accuracy: 0.7177 - val_loss: 0.8430 - val_accuracy: 0.7079\n",
      "Epoch 14/20\n",
      "355/355 [==============================] - 70s 196ms/step - loss: 0.8164 - accuracy: 0.7211 - val_loss: 0.8289 - val_accuracy: 0.7171\n",
      "Epoch 15/20\n",
      "355/355 [==============================] - 70s 197ms/step - loss: 0.7850 - accuracy: 0.7317 - val_loss: 0.8115 - val_accuracy: 0.7234\n",
      "Epoch 16/20\n",
      "355/355 [==============================] - 70s 197ms/step - loss: 0.7756 - accuracy: 0.7389 - val_loss: 0.8432 - val_accuracy: 0.7149\n",
      "Epoch 17/20\n",
      "355/355 [==============================] - 70s 196ms/step - loss: 0.7705 - accuracy: 0.7390 - val_loss: 0.8123 - val_accuracy: 0.7185\n",
      "Epoch 18/20\n",
      "355/355 [==============================] - 71s 200ms/step - loss: 0.7616 - accuracy: 0.7417 - val_loss: 0.7850 - val_accuracy: 0.7368\n",
      "Epoch 19/20\n",
      "355/355 [==============================] - 70s 197ms/step - loss: 0.7210 - accuracy: 0.7552 - val_loss: 0.8848 - val_accuracy: 0.6987\n",
      "Epoch 20/20\n",
      "355/355 [==============================] - 70s 196ms/step - loss: 0.7180 - accuracy: 0.7549 - val_loss: 0.7997 - val_accuracy: 0.7280\n"
     ]
    }
   ],
   "source": [
    "start_time = time.time()\n",
    "history = model_basic.fit(datagen.flow(x_train, y_train, batch_size=32), epochs=20,\n",
    "                          validation_data=(x_val, y_val), verbose=1,\n",
    "                          callbacks=[early_stopping])\n",
    "\n",
    "end_time = time.time()"
   ]
  },
  {
   "cell_type": "code",
   "execution_count": 23,
   "id": "85949f27-eea4-496a-9ed5-265179a59414",
   "metadata": {},
   "outputs": [
    {
     "name": "stdout",
     "output_type": "stream",
     "text": [
      "Training time: 1401.54 seconds\n"
     ]
    }
   ],
   "source": [
    "training_time = end_time - start_time\n",
    "print(\"Training time: {:.2f} seconds\".format(training_time))"
   ]
  },
  {
   "cell_type": "code",
   "execution_count": 24,
   "id": "f3e114c0-c4e8-402a-a168-7d277699fa2b",
   "metadata": {},
   "outputs": [
    {
     "name": "stdout",
     "output_type": "stream",
     "text": [
      "111/111 [==============================] - 6s 46ms/step\n"
     ]
    }
   ],
   "source": [
    "test_predictions_basic = model_basic.predict(x_test)\n",
    "test_predictions_basic = np.argmax(test_predictions_basic, axis=1) "
   ]
  },
  {
   "cell_type": "code",
   "execution_count": 25,
   "id": "c8c481b4-17f4-46ca-9e44-89f8a8c68e1c",
   "metadata": {},
   "outputs": [
    {
     "name": "stdout",
     "output_type": "stream",
     "text": [
      "              precision    recall  f1-score   support\n",
      "\n",
      "           0       0.78      0.08      0.15       216\n",
      "           1       0.70      0.81      0.75       371\n",
      "           2       0.88      0.86      0.87       529\n",
      "           3       0.83      0.84      0.84       405\n",
      "           4       0.61      0.49      0.55        67\n",
      "           5       0.70      0.73      0.71       409\n",
      "           6       0.60      0.66      0.63       366\n",
      "           7       0.61      0.61      0.61       526\n",
      "           8       0.77      0.89      0.83       284\n",
      "           9       0.76      0.87      0.81       375\n",
      "\n",
      "    accuracy                           0.73      3548\n",
      "   macro avg       0.73      0.69      0.68      3548\n",
      "weighted avg       0.73      0.73      0.71      3548\n",
      "\n"
     ]
    }
   ],
   "source": [
    "print(classification_report(y_test, test_predictions_basic))"
   ]
  },
  {
   "cell_type": "code",
   "execution_count": 80,
   "id": "2545ea6e-197c-45d5-a351-1d741dc97fdb",
   "metadata": {},
   "outputs": [],
   "source": [
    "from sklearn.metrics import confusion_matrix\n",
    "conf_matrix = confusion_matrix(y_test, test_predictions_basic)"
   ]
  },
  {
   "cell_type": "code",
   "execution_count": 86,
   "id": "f3f91575-8329-4524-b2ed-b26763591fc8",
   "metadata": {},
   "outputs": [
    {
     "data": {
      "image/png": "[encoded data removed]",
      "text/plain": [
       "<Figure size 640x480 with 1 Axes>"
      ]
     },
     "metadata": {},
     "output_type": "display_data"
    },
    {
     "data": {
      "image/png": "[encoded data removed]",
      "text/plain": [
       "<Figure size 640x480 with 1 Axes>"
      ]
     },
     "metadata": {},
     "output_type": "display_data"
    }
   ],
   "source": [
    "plt.plot(history.history['accuracy'])\n",
    "plt.plot(history.history['val_accuracy'])\n",
    "plt.title('Model accuracy')\n",
    "plt.ylabel('Accuracy')\n",
    "plt.xlabel('Epoch')\n",
    "plt.legend(['Train', 'Validation'], loc='upper left')\n",
    "plt.show()\n",
    "\n",
    "plt.plot(history.history['loss'])\n",
    "plt.plot(history.history['val_loss'])\n",
    "plt.title('Model loss')\n",
    "plt.ylabel('Loss')\n",
    "plt.xlabel('Epoch')\n",
    "plt.legend(['Train', 'Validation'], loc='upper left')\n",
    "plt.show()"
   ]
  },
  {
   "cell_type": "code",
   "execution_count": 32,
   "id": "95580808-cd7b-4572-a54d-64bfb2c9f0d9",
   "metadata": {},
   "outputs": [],
   "source": [
    "vgg16_base = VGG16(weights=None, include_top=False, input_shape=(64, 64, 3))\n",
    "\n",
    "x = Flatten()(vgg16_base.output)\n",
    "x = Dense(512, activation='relu')(x) \n",
    "x = Dense(256, activation='relu')(x)\n",
    "output = Dense(10, activation='softmax')(x)\n",
    "\n",
    "model_vgg16 = Model(inputs=vgg16_base.input, outputs=output)"
   ]
  },
  {
   "cell_type": "code",
   "execution_count": 33,
   "id": "d00e4637-c9b2-4f1c-8828-0fdc98a25696",
   "metadata": {},
   "outputs": [],
   "source": [
    "# Compile the model\n",
    "model_vgg16.compile(optimizer='adam', loss='sparse_categorical_crossentropy', metrics=['accuracy'])"
   ]
  },
  {
   "cell_type": "code",
   "execution_count": 34,
   "id": "6ced0ef8-ffa7-4d07-a035-27ac9ebf6702",
   "metadata": {},
   "outputs": [
    {
     "name": "stdout",
     "output_type": "stream",
     "text": [
      "Epoch 1/20\n",
      "355/355 [==============================] - 468s 1s/step - loss: 2.3619 - accuracy: 0.1463 - val_loss: 2.2208 - val_accuracy: 0.1490\n",
      "Epoch 2/20\n",
      "355/355 [==============================] - 460s 1s/step - loss: 2.2231 - accuracy: 0.1445 - val_loss: 2.2199 - val_accuracy: 0.1483\n",
      "Epoch 3/20\n",
      "355/355 [==============================] - 456s 1s/step - loss: 2.2216 - accuracy: 0.1436 - val_loss: 2.2234 - val_accuracy: 0.1483\n",
      "Epoch 4/20\n",
      "355/355 [==============================] - 462s 1s/step - loss: 2.2213 - accuracy: 0.1488 - val_loss: 2.2196 - val_accuracy: 0.1490\n",
      "Epoch 5/20\n",
      "355/355 [==============================] - 472s 1s/step - loss: 2.2211 - accuracy: 0.1440 - val_loss: 2.2194 - val_accuracy: 0.1483\n",
      "Epoch 6/20\n",
      "355/355 [==============================] - 464s 1s/step - loss: 2.2211 - accuracy: 0.1433 - val_loss: 2.2200 - val_accuracy: 0.1483\n",
      "Epoch 7/20\n",
      "355/355 [==============================] - 462s 1s/step - loss: 2.2204 - accuracy: 0.1447 - val_loss: 2.2194 - val_accuracy: 0.1483\n",
      "Epoch 8/20\n",
      "355/355 [==============================] - 462s 1s/step - loss: 2.2208 - accuracy: 0.1522 - val_loss: 2.2196 - val_accuracy: 0.1490\n",
      "Training time: 3705.90 seconds\n"
     ]
    }
   ],
   "source": [
    "start_time_vgg16 = time.time()\n",
    "history_vgg16 = model_vgg16.fit(datagen.flow(x_train, y_train, batch_size=32), epochs=20,\n",
    "                        validation_data=(x_val, y_val), verbose=1,\n",
    "                        callbacks=[early_stopping])\n",
    "end_time_vgg16 = time.time()\n",
    "training_time_vgg16 = end_time_vgg16 - start_time_vgg16\n",
    "print(\"Training time: {:.2f} seconds\".format(training_time_vgg16))"
   ]
  },
  {
   "cell_type": "code",
   "execution_count": 35,
   "id": "20a8ee14-7d67-4d6c-b2f7-4a0f788115b6",
   "metadata": {},
   "outputs": [
    {
     "name": "stdout",
     "output_type": "stream",
     "text": [
      "111/111 [==============================] - 41s 369ms/step\n"
     ]
    }
   ],
   "source": [
    "test_predictions_vgg16 = model_vgg16.predict(x_test)\n",
    "test_predictions_vgg16 = np.argmax(test_predictions_vgg16, axis=1) "
   ]
  },
  {
   "cell_type": "code",
   "execution_count": 36,
   "id": "2642d545-06fa-4960-9a09-66aaa3ecfec8",
   "metadata": {},
   "outputs": [
    {
     "name": "stdout",
     "output_type": "stream",
     "text": [
      "              precision    recall  f1-score   support\n",
      "\n",
      "           0       0.00      0.00      0.00       216\n",
      "           1       0.00      0.00      0.00       371\n",
      "           2       0.00      0.00      0.00       529\n",
      "           3       0.00      0.00      0.00       405\n",
      "           4       0.00      0.00      0.00        67\n",
      "           5       0.00      0.00      0.00       409\n",
      "           6       0.00      0.00      0.00       366\n",
      "           7       0.15      1.00      0.26       526\n",
      "           8       0.00      0.00      0.00       284\n",
      "           9       0.00      0.00      0.00       375\n",
      "\n",
      "    accuracy                           0.15      3548\n",
      "   macro avg       0.01      0.10      0.03      3548\n",
      "weighted avg       0.02      0.15      0.04      3548\n",
      "\n"
     ]
    },
    {
     "name": "stderr",
     "output_type": "stream",
     "text": [
      "C:\\Users\\First One\\anaconda3\\envs\\ayat\\Lib\\site-packages\\sklearn\\metrics\\_classification.py:1471: UndefinedMetricWarning: Precision and F-score are ill-defined and being set to 0.0 in labels with no predicted samples. Use `zero_division` parameter to control this behavior.\n",
      "C:\\Users\\First One\\anaconda3\\envs\\ayat\\Lib\\site-packages\\sklearn\\metrics\\_classification.py:1471: UndefinedMetricWarning: Precision and F-score are ill-defined and being set to 0.0 in labels with no predicted samples. Use `zero_division` parameter to control this behavior.\n",
      "C:\\Users\\First One\\anaconda3\\envs\\ayat\\Lib\\site-packages\\sklearn\\metrics\\_classification.py:1471: UndefinedMetricWarning: Precision and F-score are ill-defined and being set to 0.0 in labels with no predicted samples. Use `zero_division` parameter to control this behavior.\n"
     ]
    }
   ],
   "source": [
    "print(classification_report(y_test, test_predictions_vgg16))"
   ]
  },
  {
   "cell_type": "code",
   "execution_count": 26,
   "id": "dfbbbd2b-6386-48a6-a8d6-c608d271aa8f",
   "metadata": {},
   "outputs": [],
   "source": [
    "vgg_base = VGG16(weights='imagenet', include_top=False, input_shape=(64, 64, 3))\n",
    "\n",
    "for layer in vgg_base.layers:\n",
    "    layer.trainable = False\n",
    "\n",
    "vgg_base.layers[-2].trainable = True\n",
    "\n",
    "x = Flatten()(vgg_base.output)\n",
    "x = Dense(512, activation='relu')(x)  \n",
    "x = Dense(256, activation='relu')(x)\n",
    "output = Dense(10, activation='softmax')(x)\n",
    "\n",
    "model_pre_vgg16 = Model(inputs=vgg_base.input, outputs=output)"
   ]
  },
  {
   "cell_type": "code",
   "execution_count": 27,
   "id": "032c8c76-d4b6-48c4-8d56-b688be67bd34",
   "metadata": {},
   "outputs": [],
   "source": [
    "# Compile the model\n",
    "model_pre_vgg16.compile(optimizer='adam', loss='sparse_categorical_crossentropy', metrics=['accuracy'])"
   ]
  },
  {
   "cell_type": "code",
   "execution_count": 28,
   "id": "25640eb8-a063-41ea-a049-71b02b7aa430",
   "metadata": {},
   "outputs": [
    {
     "name": "stdout",
     "output_type": "stream",
     "text": [
      "Epoch 1/20\n",
      "355/355 [==============================] - 319s 887ms/step - loss: 1.6085 - accuracy: 0.4008 - val_loss: 1.3822 - val_accuracy: 0.4774\n",
      "Epoch 2/20\n",
      "355/355 [==============================] - 314s 883ms/step - loss: 1.4049 - accuracy: 0.4819 - val_loss: 1.3686 - val_accuracy: 0.5014\n",
      "Epoch 3/20\n",
      "355/355 [==============================] - 285s 801ms/step - loss: 1.3333 - accuracy: 0.5129 - val_loss: 1.3724 - val_accuracy: 0.4898\n",
      "Epoch 4/20\n",
      "355/355 [==============================] - 195s 549ms/step - loss: 1.3035 - accuracy: 0.5263 - val_loss: 1.2802 - val_accuracy: 0.5444\n",
      "Epoch 5/20\n",
      "355/355 [==============================] - 194s 546ms/step - loss: 1.2600 - accuracy: 0.5429 - val_loss: 1.2100 - val_accuracy: 0.5620\n",
      "Epoch 6/20\n",
      "355/355 [==============================] - 196s 552ms/step - loss: 1.2549 - accuracy: 0.5442 - val_loss: 1.4941 - val_accuracy: 0.4852\n",
      "Epoch 7/20\n",
      "355/355 [==============================] - 194s 548ms/step - loss: 1.2340 - accuracy: 0.5544 - val_loss: 1.3647 - val_accuracy: 0.5053\n",
      "Epoch 8/20\n",
      "355/355 [==============================] - 193s 545ms/step - loss: 1.2071 - accuracy: 0.5601 - val_loss: 1.2412 - val_accuracy: 0.5483\n",
      "Training time: 1890.30 seconds\n"
     ]
    }
   ],
   "source": [
    "start_time_pvgg16 = time.time()\n",
    "history_pvgg16 = model_pre_vgg16.fit(datagen.flow(x_train, y_train, batch_size=32), epochs=20,\n",
    "                        validation_data=(x_val, y_val), verbose=1,\n",
    "                        callbacks=[early_stopping])\n",
    "end_time_pvgg16 = time.time()\n",
    "training_time_pvgg16 = end_time_pvgg16 - start_time_pvgg16\n",
    "print(\"Training time: {:.2f} seconds\".format(training_time_pvgg16))"
   ]
  },
  {
   "cell_type": "code",
   "execution_count": 30,
   "id": "6b2310e5-0134-48de-a6e9-d3902b2ea65c",
   "metadata": {},
   "outputs": [
    {
     "name": "stdout",
     "output_type": "stream",
     "text": [
      "111/111 [==============================] - 42s 383ms/step\n"
     ]
    }
   ],
   "source": [
    "test_predictions_pvgg16 = model_pre_vgg16.predict(x_test)\n",
    "test_predictions_pvgg16 = np.argmax(test_predictions_pvgg16, axis=1) "
   ]
  },
  {
   "cell_type": "code",
   "execution_count": 31,
   "id": "88f1b839-8ccf-4d7c-bdf6-fbde5f6d2899",
   "metadata": {},
   "outputs": [
    {
     "name": "stdout",
     "output_type": "stream",
     "text": [
      "              precision    recall  f1-score   support\n",
      "\n",
      "           0       0.56      0.06      0.12       216\n",
      "           1       0.49      0.46      0.47       371\n",
      "           2       0.70      0.77      0.73       529\n",
      "           3       0.53      0.65      0.59       405\n",
      "           4       0.29      0.34      0.32        67\n",
      "           5       0.49      0.50      0.50       409\n",
      "           6       0.55      0.34      0.42       366\n",
      "           7       0.43      0.50      0.46       526\n",
      "           8       0.74      0.86      0.79       284\n",
      "           9       0.66      0.78      0.72       375\n",
      "\n",
      "    accuracy                           0.56      3548\n",
      "   macro avg       0.54      0.53      0.51      3548\n",
      "weighted avg       0.56      0.56      0.55      3548\n",
      "\n"
     ]
    }
   ],
   "source": [
    "print(classification_report(y_test, test_predictions_pvgg16))"
   ]
  },
  {
   "cell_type": "code",
   "execution_count": 37,
   "id": "40156e8c-fec8-4c14-8973-ec483ac995b0",
   "metadata": {},
   "outputs": [],
   "source": [
    "resnet_base = ResNet50(weights='imagenet', include_top=False, input_shape=(64, 64, 3))\n",
    "\n",
    "for layer in resnet_base.layers:\n",
    "    layer.trainable = False\n",
    "resnet_base.layers[-2].trainable = True\n",
    "\n",
    "x = Flatten()(resnet_base.output)\n",
    "x = Dense(512, activation='relu')(x)  \n",
    "x = Dense(256, activation='relu')(x)\n",
    "output = Dense(10, activation='softmax')(x)\n",
    "\n",
    "model_pre_Res = Model(inputs=resnet_base .input, outputs=output)"
   ]
  },
  {
   "cell_type": "code",
   "execution_count": 38,
   "id": "d49ab3f9-fd78-4317-9a5e-050065ccefcc",
   "metadata": {},
   "outputs": [],
   "source": [
    "model_pre_Res.compile(optimizer='adam', loss='sparse_categorical_crossentropy', metrics=['accuracy'])"
   ]
  },
  {
   "cell_type": "code",
   "execution_count": 45,
   "id": "de8bb20d-f85b-4985-bb69-4af7cca1911b",
   "metadata": {},
   "outputs": [
    {
     "name": "stdout",
     "output_type": "stream",
     "text": [
      "Epoch 1/20\n",
      "355/355 [==============================] - 95s 268ms/step - loss: 1.5586 - accuracy: 0.4202 - val_loss: 1.5483 - val_accuracy: 0.4158\n",
      "Epoch 2/20\n",
      "355/355 [==============================] - 98s 276ms/step - loss: 1.5264 - accuracy: 0.4342 - val_loss: 1.5183 - val_accuracy: 0.4302\n",
      "Epoch 3/20\n",
      "355/355 [==============================] - 95s 269ms/step - loss: 1.4971 - accuracy: 0.4419 - val_loss: 1.4756 - val_accuracy: 0.4609\n",
      "Epoch 4/20\n",
      "355/355 [==============================] - 96s 270ms/step - loss: 1.4673 - accuracy: 0.4555 - val_loss: 1.4564 - val_accuracy: 0.4704\n",
      "Epoch 5/20\n",
      "355/355 [==============================] - 96s 270ms/step - loss: 1.4424 - accuracy: 0.4673 - val_loss: 1.4953 - val_accuracy: 0.4450\n",
      "Epoch 6/20\n",
      "355/355 [==============================] - 96s 271ms/step - loss: 1.4149 - accuracy: 0.4784 - val_loss: 1.4574 - val_accuracy: 0.4686\n",
      "Epoch 7/20\n",
      "355/355 [==============================] - 96s 270ms/step - loss: 1.4013 - accuracy: 0.4848 - val_loss: 1.5033 - val_accuracy: 0.4623\n",
      "Training time: -672.54 seconds\n"
     ]
    }
   ],
   "source": [
    "start_time_pRes = time.time()\n",
    "history_pRes = model_pre_Res.fit(x_train, y_train, batch_size=32, epochs=20,\n",
    "                        validation_data=(x_val, y_val), verbose=1,\n",
    "                        callbacks=[early_stopping])\n",
    "end_time_pRes = time.time()\n",
    "training_time_pRes = start_time_pRes - end_time_pRes\n",
    "print(\"Training time: {:.2f} seconds\".format(training_time_pRes))"
   ]
  },
  {
   "cell_type": "code",
   "execution_count": 46,
   "id": "f573c359-9264-473d-a7bd-ea6d468f8365",
   "metadata": {},
   "outputs": [
    {
     "name": "stdout",
     "output_type": "stream",
     "text": [
      "111/111 [==============================] - 19s 174ms/step\n"
     ]
    }
   ],
   "source": [
    "test_predictions_pRes = model_pre_Res.predict(x_test)\n",
    "test_predictions_pRes = np.argmax(test_predictions_pRes, axis=1) "
   ]
  },
  {
   "cell_type": "code",
   "execution_count": 47,
   "id": "f9c19482-5d64-4eb5-8f55-5251239886f0",
   "metadata": {},
   "outputs": [
    {
     "name": "stdout",
     "output_type": "stream",
     "text": [
      "              precision    recall  f1-score   support\n",
      "\n",
      "           0       0.00      0.00      0.00       216\n",
      "           1       0.39      0.37      0.38       371\n",
      "           2       0.44      0.80      0.57       529\n",
      "           3       0.48      0.44      0.46       405\n",
      "           4       0.33      0.10      0.16        67\n",
      "           5       0.40      0.13      0.20       409\n",
      "           6       0.42      0.50      0.45       366\n",
      "           7       0.35      0.37      0.36       526\n",
      "           8       0.66      0.82      0.73       284\n",
      "           9       0.60      0.62      0.61       375\n",
      "\n",
      "    accuracy                           0.46      3548\n",
      "   macro avg       0.41      0.41      0.39      3548\n",
      "weighted avg       0.42      0.46      0.42      3548\n",
      "\n"
     ]
    }
   ],
   "source": [
    "print(classification_report(y_test, test_predictions_pRes))"
   ]
  },
  {
   "cell_type": "code",
   "execution_count": 72,
   "id": "2e0269da-4fa0-44f5-bc8e-484cfec32bd1",
   "metadata": {},
   "outputs": [],
   "source": [
    "Resnet_base = ResNet50(weights= None , include_top=False, input_shape=(64, 64, 3))\n",
    "\n",
    "x = Flatten()(Resnet_base.output)\n",
    "x = Dense(512, activation='relu')(x)  \n",
    "x = Dense(256, activation='relu')(x)\n",
    "output = Dense(10, activation='softmax')(x)\n",
    "\n",
    "model_Res = Model(inputs=Resnet_base .input, outputs=output)"
   ]
  },
  {
   "cell_type": "code",
   "execution_count": 73,
   "id": "2014f788-7406-49c9-889d-877d8f2c6765",
   "metadata": {},
   "outputs": [],
   "source": [
    "model_Res.compile(optimizer='adam', loss='sparse_categorical_crossentropy', metrics=['accuracy'])"
   ]
  },
  {
   "cell_type": "code",
   "execution_count": 74,
   "id": "5c78e399-7133-4473-963d-12763294398f",
   "metadata": {},
   "outputs": [
    {
     "name": "stdout",
     "output_type": "stream",
     "text": [
      "Epoch 1/20\n",
      "355/355 [==============================] - 273s 709ms/step - loss: 2.2575 - accuracy: 0.3240 - val_loss: 2.0046 - val_accuracy: 0.2512\n",
      "Epoch 2/20\n",
      "355/355 [==============================] - 253s 713ms/step - loss: 1.4421 - accuracy: 0.4768 - val_loss: 1.3918 - val_accuracy: 0.5095\n",
      "Epoch 3/20\n",
      "355/355 [==============================] - 253s 713ms/step - loss: 1.3368 - accuracy: 0.5200 - val_loss: 3.0233 - val_accuracy: 0.2259\n",
      "Epoch 4/20\n",
      "355/355 [==============================] - 252s 709ms/step - loss: 1.3421 - accuracy: 0.5210 - val_loss: 1.7712 - val_accuracy: 0.4165\n",
      "Epoch 5/20\n",
      "355/355 [==============================] - 251s 708ms/step - loss: 1.2425 - accuracy: 0.5591 - val_loss: 1.5196 - val_accuracy: 0.4958\n",
      "Training time: -1282.25 seconds\n"
     ]
    }
   ],
   "source": [
    "start_time_Res = time.time()\n",
    "history_Res = model_Res.fit(x_train, y_train, batch_size=32, epochs=20,\n",
    "                        validation_data=(x_val, y_val), verbose=1,\n",
    "                        callbacks=[early_stopping])\n",
    "end_time_Res = time.time()\n",
    "training_time_Res = start_time_Res - end_time_Res\n",
    "print(\"Training time: {:.2f} seconds\".format(training_time_Res))"
   ]
  },
  {
   "cell_type": "code",
   "execution_count": 75,
   "id": "1e57b354-4978-4242-8f68-16ae8c14c678",
   "metadata": {},
   "outputs": [
    {
     "name": "stdout",
     "output_type": "stream",
     "text": [
      "111/111 [==============================] - 22s 190ms/step\n"
     ]
    }
   ],
   "source": [
    "test_predictions_Res =  model_Res.predict(x_test)\n",
    "test_predictions_Res = np.argmax(test_predictions_Res, axis=1)"
   ]
  },
  {
   "cell_type": "code",
   "execution_count": 76,
   "id": "5b1b4b96-8ff3-4254-a754-aefb9b0ad73d",
   "metadata": {},
   "outputs": [
    {
     "name": "stdout",
     "output_type": "stream",
     "text": [
      "              precision    recall  f1-score   support\n",
      "\n",
      "           0       0.47      0.03      0.06       216\n",
      "           1       0.40      0.39      0.40       371\n",
      "           2       0.52      0.90      0.66       529\n",
      "           3       0.55      0.67      0.60       405\n",
      "           4       0.11      0.03      0.05        67\n",
      "           5       0.49      0.11      0.17       409\n",
      "           6       0.45      0.37      0.41       366\n",
      "           7       0.38      0.40      0.39       526\n",
      "           8       0.61      0.87      0.72       284\n",
      "           9       0.61      0.70      0.65       375\n",
      "\n",
      "    accuracy                           0.50      3548\n",
      "   macro avg       0.46      0.44      0.41      3548\n",
      "weighted avg       0.49      0.50      0.46      3548\n",
      "\n"
     ]
    }
   ],
   "source": [
    "print(classification_report(y_test, test_predictions_Res))"
   ]
  },
  {
   "cell_type": "code",
   "execution_count": 54,
   "id": "51c6d81f-bac5-4dc1-a8e6-e751477093d4",
   "metadata": {},
   "outputs": [
    {
     "name": "stdout",
     "output_type": "stream",
     "text": [
      "WARNING:tensorflow:`input_shape` is undefined or non-square, or `rows` is not in [128, 160, 192, 224]. Weights for input shape (224, 224) will be loaded as the default.\n"
     ]
    }
   ],
   "source": [
    "mobilenet_base = MobileNet(weights='imagenet', include_top=False, input_shape=(64, 64, 3))\n",
    "\n",
    "for layer in mobilenet_base.layers:\n",
    "    layer.trainable = False\n",
    "mobilenet_base.layers[-2].trainable = True\n",
    "\n",
    "x = Flatten()(mobilenet_base.output)\n",
    "x = Dense(512, activation='relu')(x)  \n",
    "x = Dense(256, activation='relu')(x)\n",
    "output = Dense(10, activation='softmax')(x)\n",
    "\n",
    "\n",
    "model_pre_mob = Model(inputs=mobilenet_base.input, outputs=output)"
   ]
  },
  {
   "cell_type": "code",
   "execution_count": 55,
   "id": "f3da1dbe-2044-4b62-9970-23d288c130ac",
   "metadata": {},
   "outputs": [],
   "source": [
    "model_pre_mob.compile(optimizer='adam', loss='sparse_categorical_crossentropy', metrics=['accuracy'])"
   ]
  },
  {
   "cell_type": "code",
   "execution_count": 56,
   "id": "d6c8eb62-dca3-4033-ab27-bc19da183d43",
   "metadata": {},
   "outputs": [
    {
     "name": "stdout",
     "output_type": "stream",
     "text": [
      "Epoch 1/20\n",
      "355/355 [==============================] - 29s 74ms/step - loss: 1.6853 - accuracy: 0.4062 - val_loss: 1.5513 - val_accuracy: 0.4316\n",
      "Epoch 2/20\n",
      "355/355 [==============================] - 27s 77ms/step - loss: 1.3778 - accuracy: 0.4907 - val_loss: 1.4887 - val_accuracy: 0.4669\n",
      "Epoch 3/20\n",
      "355/355 [==============================] - 27s 77ms/step - loss: 1.2016 - accuracy: 0.5604 - val_loss: 1.5246 - val_accuracy: 0.4528\n",
      "Epoch 4/20\n",
      "355/355 [==============================] - 27s 77ms/step - loss: 1.0399 - accuracy: 0.6159 - val_loss: 1.6204 - val_accuracy: 0.4612\n",
      "Epoch 5/20\n",
      "355/355 [==============================] - 27s 76ms/step - loss: 0.8528 - accuracy: 0.6884 - val_loss: 1.7331 - val_accuracy: 0.4204\n",
      "Training time: -138.21 seconds\n"
     ]
    }
   ],
   "source": [
    "start_time_pmob = time.time()\n",
    "history_pmob = model_pre_mob.fit(x_train, y_train, batch_size=32, epochs=20,\n",
    "                        validation_data=(x_val, y_val), verbose=1,\n",
    "                        callbacks=[early_stopping])\n",
    "end_time_pmob = time.time()\n",
    "training_time_pmob = start_time_pmob - end_time_pmob\n",
    "print(\"Training time: {:.2f} seconds\".format(training_time_pmob))"
   ]
  },
  {
   "cell_type": "code",
   "execution_count": 57,
   "id": "566e226b-0673-4671-85f4-b3376a20db6b",
   "metadata": {},
   "outputs": [
    {
     "name": "stdout",
     "output_type": "stream",
     "text": [
      "111/111 [==============================] - 5s 43ms/step\n"
     ]
    }
   ],
   "source": [
    "test_predictions_pmob = model_pre_mob.predict(x_test)\n",
    "test_predictions_pmob = np.argmax(test_predictions_pmob, axis=1)"
   ]
  },
  {
   "cell_type": "code",
   "execution_count": 58,
   "id": "3410f9d5-216d-44cd-bee3-f6fb1cb099e8",
   "metadata": {},
   "outputs": [
    {
     "name": "stdout",
     "output_type": "stream",
     "text": [
      "              precision    recall  f1-score   support\n",
      "\n",
      "           0       0.23      0.04      0.07       216\n",
      "           1       0.40      0.33      0.37       371\n",
      "           2       0.46      0.73      0.57       529\n",
      "           3       0.40      0.32      0.36       405\n",
      "           4       0.35      0.12      0.18        67\n",
      "           5       0.54      0.30      0.39       409\n",
      "           6       0.37      0.51      0.43       366\n",
      "           7       0.40      0.40      0.40       526\n",
      "           8       0.76      0.70      0.73       284\n",
      "           9       0.59      0.77      0.67       375\n",
      "\n",
      "    accuracy                           0.47      3548\n",
      "   macro avg       0.45      0.42      0.41      3548\n",
      "weighted avg       0.46      0.47      0.45      3548\n",
      "\n"
     ]
    }
   ],
   "source": [
    "print(classification_report(y_test, test_predictions_pmob))"
   ]
  },
  {
   "cell_type": "code",
   "execution_count": 67,
   "id": "8c909e62-bacb-4cbd-bf5f-7381a7bb3618",
   "metadata": {},
   "outputs": [],
   "source": [
    "Mobilenet_base = MobileNet(weights= None, include_top=False, input_shape=(64, 64, 3))\n",
    "\n",
    "x = Flatten()(Mobilenet_base.output)\n",
    "x = Dense(512, activation='relu')(x)  \n",
    "x = Dense(256, activation='relu')(x)\n",
    "output = Dense(10, activation='softmax')(x)\n",
    "\n",
    "model_mob = Model(inputs=Mobilenet_base.input, outputs=output)"
   ]
  },
  {
   "cell_type": "code",
   "execution_count": 68,
   "id": "966a0493-de03-4b69-a32f-92b7e6cbbe26",
   "metadata": {},
   "outputs": [],
   "source": [
    "model_mob.compile(optimizer='adam', loss='sparse_categorical_crossentropy', metrics=['accuracy'])"
   ]
  },
  {
   "cell_type": "code",
   "execution_count": 69,
   "id": "f5053c23-31d6-4532-b2cf-fa3fd07237c5",
   "metadata": {},
   "outputs": [
    {
     "name": "stdout",
     "output_type": "stream",
     "text": [
      "Epoch 1/20\n",
      "355/355 [==============================] - 76s 190ms/step - loss: 1.9825 - accuracy: 0.2780 - val_loss: 2.4386 - val_accuracy: 0.1490\n",
      "Epoch 2/20\n",
      "355/355 [==============================] - 63s 178ms/step - loss: 1.4900 - accuracy: 0.4589 - val_loss: 1.5915 - val_accuracy: 0.4239\n",
      "Epoch 3/20\n",
      "355/355 [==============================] - 63s 178ms/step - loss: 1.3481 - accuracy: 0.5186 - val_loss: 1.8112 - val_accuracy: 0.3848\n",
      "Epoch 4/20\n",
      "355/355 [==============================] - 66s 185ms/step - loss: 1.2332 - accuracy: 0.5634 - val_loss: 1.5453 - val_accuracy: 0.5088\n",
      "Epoch 5/20\n",
      "355/355 [==============================] - 66s 185ms/step - loss: 1.1586 - accuracy: 0.5899 - val_loss: 1.7831 - val_accuracy: 0.4479\n",
      "Epoch 6/20\n",
      "355/355 [==============================] - 67s 188ms/step - loss: 1.1014 - accuracy: 0.6159 - val_loss: 1.4238 - val_accuracy: 0.5078\n",
      "Epoch 7/20\n",
      "355/355 [==============================] - 66s 186ms/step - loss: 1.0499 - accuracy: 0.6418 - val_loss: 1.7502 - val_accuracy: 0.4972\n",
      "Epoch 8/20\n",
      "355/355 [==============================] - 66s 187ms/step - loss: 0.9899 - accuracy: 0.6611 - val_loss: 1.4262 - val_accuracy: 0.5233\n",
      "Epoch 9/20\n",
      "355/355 [==============================] - 66s 185ms/step - loss: 0.9483 - accuracy: 0.6752 - val_loss: 1.3891 - val_accuracy: 0.5726\n",
      "Epoch 10/20\n",
      "355/355 [==============================] - 66s 186ms/step - loss: 0.8947 - accuracy: 0.6961 - val_loss: 1.7450 - val_accuracy: 0.5289\n",
      "Epoch 11/20\n",
      "355/355 [==============================] - 67s 190ms/step - loss: 0.8524 - accuracy: 0.7082 - val_loss: 1.3261 - val_accuracy: 0.5821\n",
      "Epoch 12/20\n",
      "355/355 [==============================] - 66s 187ms/step - loss: 0.8009 - accuracy: 0.7285 - val_loss: 1.4036 - val_accuracy: 0.5610\n",
      "Epoch 13/20\n",
      "355/355 [==============================] - 69s 193ms/step - loss: 0.7723 - accuracy: 0.7366 - val_loss: 1.2434 - val_accuracy: 0.5839\n",
      "Epoch 14/20\n",
      "355/355 [==============================] - 69s 194ms/step - loss: 0.7253 - accuracy: 0.7552 - val_loss: 1.5332 - val_accuracy: 0.5740\n",
      "Epoch 15/20\n",
      "355/355 [==============================] - 71s 201ms/step - loss: 0.6844 - accuracy: 0.7715 - val_loss: 1.4463 - val_accuracy: 0.5884\n",
      "Epoch 16/20\n",
      "355/355 [==============================] - 62s 176ms/step - loss: 0.6563 - accuracy: 0.7844 - val_loss: 1.3166 - val_accuracy: 0.6156\n",
      "Training time: -1069.26 seconds\n"
     ]
    }
   ],
   "source": [
    "start_time_mob = time.time()\n",
    "history_mob = model_mob.fit(x_train, y_train, batch_size=32, epochs=20,\n",
    "                        validation_data=(x_val, y_val), verbose=1,\n",
    "                        callbacks=[early_stopping])\n",
    "end_time_mob = time.time()\n",
    "training_time_mob = start_time_mob - end_time_mob\n",
    "print(\"Training time: {:.2f} seconds\".format(training_time_mob))"
   ]
  },
  {
   "cell_type": "code",
   "execution_count": 70,
   "id": "c0f20268-8a35-4335-adcb-140cc0bb1a40",
   "metadata": {},
   "outputs": [
    {
     "name": "stdout",
     "output_type": "stream",
     "text": [
      "111/111 [==============================] - 5s 41ms/step\n"
     ]
    }
   ],
   "source": [
    "test_predictions_mob = model_mob.predict(x_test)\n",
    "test_predictions_mob = np.argmax(test_predictions_mob, axis=1)"
   ]
  },
  {
   "cell_type": "code",
   "execution_count": 71,
   "id": "a13d046d-96e4-490d-b379-b1aa0241ce39",
   "metadata": {},
   "outputs": [
    {
     "name": "stdout",
     "output_type": "stream",
     "text": [
      "              precision    recall  f1-score   support\n",
      "\n",
      "           0       0.40      0.12      0.19       216\n",
      "           1       0.68      0.50      0.58       371\n",
      "           2       0.88      0.67      0.76       529\n",
      "           3       0.59      0.84      0.70       405\n",
      "           4       0.20      0.58      0.29        67\n",
      "           5       0.73      0.56      0.63       409\n",
      "           6       0.63      0.30      0.41       366\n",
      "           7       0.40      0.66      0.50       526\n",
      "           8       0.77      0.81      0.79       284\n",
      "           9       0.65      0.64      0.64       375\n",
      "\n",
      "    accuracy                           0.59      3548\n",
      "   macro avg       0.59      0.57      0.55      3548\n",
      "weighted avg       0.64      0.59      0.59      3548\n",
      "\n"
     ]
    }
   ],
   "source": [
    "print(classification_report(y_test, test_predictions_mob))"
   ]
  },
  {
   "cell_type": "code",
   "execution_count": 87,
   "id": "c91b288d-7ec4-4fa3-b570-161b8304f917",
   "metadata": {},
   "outputs": [
    {
     "name": "stdout",
     "output_type": "stream",
     "text": [
      "WARNING:tensorflow:`input_shape` is undefined or non-square, or `rows` is not in [96, 128, 160, 192, 224]. Weights for input shape (224, 224) will be loaded as the default.\n"
     ]
    }
   ],
   "source": [
    "mobilenetv2_base = MobileNetV2(weights='imagenet', include_top=False, input_shape=(64, 64, 3))\n",
    "\n",
    "for layer in mobilenetv2_base.layers:\n",
    "    layer.trainable = False\n",
    "mobilenetv2_base.layers[-2].trainable = True\n",
    "\n",
    "x = Flatten()(mobilenetv2_base.output)\n",
    "x = Dense(512, activation='relu')(x)  \n",
    "x = Dense(256, activation='relu')(x)\n",
    "output = Dense(10, activation='softmax')(x)\n",
    "\n",
    "model_pre_MobileNetV2 = Model(inputs=mobilenetv2_base.input, outputs=output)"
   ]
  },
  {
   "cell_type": "code",
   "execution_count": 88,
   "id": "305bca5a-972e-4ccc-aa61-3903ef32adf0",
   "metadata": {},
   "outputs": [],
   "source": [
    "model_pre_MobileNetV2.compile(optimizer='adam', loss='sparse_categorical_crossentropy', metrics=['accuracy'])"
   ]
  },
  {
   "cell_type": "code",
   "execution_count": 89,
   "id": "ed237a3c-cfe1-4e6a-b823-1d1637efd11d",
   "metadata": {},
   "outputs": [
    {
     "name": "stdout",
     "output_type": "stream",
     "text": [
      "Epoch 1/20\n",
      "355/355 [==============================] - 152s 396ms/step - loss: 1.8063 - accuracy: 0.3670 - val_loss: 1.8015 - val_accuracy: 0.3235\n",
      "Epoch 2/20\n",
      "355/355 [==============================] - 42s 117ms/step - loss: 1.5040 - accuracy: 0.4468 - val_loss: 1.7381 - val_accuracy: 0.3584\n",
      "Epoch 3/20\n",
      "355/355 [==============================] - 42s 119ms/step - loss: 1.3358 - accuracy: 0.5090 - val_loss: 1.7326 - val_accuracy: 0.3506\n",
      "Epoch 4/20\n",
      "355/355 [==============================] - 42s 119ms/step - loss: 1.1752 - accuracy: 0.5674 - val_loss: 1.7195 - val_accuracy: 0.3767\n",
      "Epoch 5/20\n",
      "355/355 [==============================] - 42s 119ms/step - loss: 1.0167 - accuracy: 0.6242 - val_loss: 1.7585 - val_accuracy: 0.3760\n",
      "Epoch 6/20\n",
      "355/355 [==============================] - 41s 116ms/step - loss: 0.8509 - accuracy: 0.6933 - val_loss: 1.8105 - val_accuracy: 0.3858\n",
      "Epoch 7/20\n",
      "355/355 [==============================] - 42s 118ms/step - loss: 0.6828 - accuracy: 0.7516 - val_loss: 2.0310 - val_accuracy: 0.3805\n",
      "Training time: -464.59 seconds\n"
     ]
    }
   ],
   "source": [
    "start_time_pmob2 = time.time()\n",
    "history_pmob2 = model_pre_MobileNetV2.fit(x_train, y_train, batch_size=32, epochs=20,\n",
    "                        validation_data=(x_val, y_val), verbose=1,\n",
    "                        callbacks=[early_stopping])\n",
    "end_time_pmob2 = time.time()\n",
    "training_time_pmob2 = start_time_pmob2 - end_time_pmob2\n",
    "print(\"Training time: {:.2f} seconds\".format(training_time_pmob2))"
   ]
  },
  {
   "cell_type": "code",
   "execution_count": 90,
   "id": "7af45dd6-9c08-4da2-8429-6df5e24abd22",
   "metadata": {},
   "outputs": [
    {
     "name": "stdout",
     "output_type": "stream",
     "text": [
      "111/111 [==============================] - 12s 80ms/step\n"
     ]
    }
   ],
   "source": [
    "test_predictions_pmob2 = model_pre_MobileNetV2.predict(x_test)\n",
    "test_predictions_pmob2 = np.argmax(test_predictions_pmob2, axis=1)"
   ]
  },
  {
   "cell_type": "code",
   "execution_count": 91,
   "id": "83612077-95f0-4eec-b9e2-d618b30d3cbb",
   "metadata": {},
   "outputs": [
    {
     "name": "stdout",
     "output_type": "stream",
     "text": [
      "              precision    recall  f1-score   support\n",
      "\n",
      "           0       0.16      0.06      0.08       216\n",
      "           1       0.26      0.32      0.28       371\n",
      "           2       0.52      0.32      0.39       529\n",
      "           3       0.31      0.33      0.32       405\n",
      "           4       0.33      0.07      0.12        67\n",
      "           5       0.32      0.49      0.38       409\n",
      "           6       0.26      0.19      0.22       366\n",
      "           7       0.29      0.42      0.34       526\n",
      "           8       0.84      0.40      0.55       284\n",
      "           9       0.55      0.66      0.60       375\n",
      "\n",
      "    accuracy                           0.36      3548\n",
      "   macro avg       0.38      0.33      0.33      3548\n",
      "weighted avg       0.39      0.36      0.36      3548\n",
      "\n"
     ]
    }
   ],
   "source": [
    "print(classification_report(y_test, test_predictions_pmob2))"
   ]
  },
  {
   "cell_type": "code",
   "execution_count": 92,
   "id": "9dc7dc71-a546-4efe-925d-4e9eac1723fe",
   "metadata": {},
   "outputs": [],
   "source": [
    "MobilenetV2_base = MobileNetV2(weights=None, include_top=False, input_shape=(64, 64, 3))\n",
    "\n",
    "x = Flatten()(MobilenetV2_base.output)\n",
    "x = Dense(512, activation='relu')(x)  \n",
    "x = Dense(256, activation='relu')(x)\n",
    "output = Dense(10, activation='softmax')(x)\n",
    "\n",
    "model_MobileNetV2 = Model(inputs=MobilenetV2_base.input, outputs=output)"
   ]
  },
  {
   "cell_type": "code",
   "execution_count": 93,
   "id": "5520c1da-7e67-4417-8e8a-b0d68af070f9",
   "metadata": {},
   "outputs": [],
   "source": [
    "model_MobileNetV2.compile(optimizer='adam', loss='sparse_categorical_crossentropy', metrics=['accuracy'])"
   ]
  },
  {
   "cell_type": "code",
   "execution_count": 98,
   "id": "9e917e4a-d37a-418a-98b0-a98d06876166",
   "metadata": {},
   "outputs": [
    {
     "name": "stdout",
     "output_type": "stream",
     "text": [
      "Epoch 1/20\n",
      "355/355 [==============================] - 122s 344ms/step - loss: 1.5489 - accuracy: 0.4411 - val_loss: 2.4164 - val_accuracy: 0.1043\n",
      "Epoch 2/20\n",
      "355/355 [==============================] - 125s 353ms/step - loss: 1.3486 - accuracy: 0.5213 - val_loss: 2.8071 - val_accuracy: 0.1043\n",
      "Epoch 3/20\n",
      "355/355 [==============================] - 124s 349ms/step - loss: 1.2589 - accuracy: 0.5594 - val_loss: 3.0006 - val_accuracy: 0.1483\n",
      "Epoch 4/20\n",
      "355/355 [==============================] - 125s 353ms/step - loss: 1.1482 - accuracy: 0.6017 - val_loss: 2.7835 - val_accuracy: 0.1483\n",
      "Training time: -497.73 seconds\n"
     ]
    }
   ],
   "source": [
    "start_time_mob2 = time.time()\n",
    "history_mob2 = model_MobileNetV2.fit(x_train, y_train, batch_size=32, epochs=20,\n",
    "                        validation_data=(x_val, y_val), verbose=1,\n",
    "                        callbacks=[early_stopping])\n",
    "end_time_mob2 = time.time()\n",
    "training_time_mob2 = start_time_mob2 - end_time_mob2\n",
    "print(\"Training time: {:.2f} seconds\".format(training_time_mob2))"
   ]
  },
  {
   "cell_type": "code",
   "execution_count": 99,
   "id": "68c68200-329e-4773-85b7-d2b97f5c1b27",
   "metadata": {},
   "outputs": [
    {
     "name": "stdout",
     "output_type": "stream",
     "text": [
      "111/111 [==============================] - 10s 89ms/step\n"
     ]
    }
   ],
   "source": [
    "test_predictions_mob2 = model_MobileNetV2.predict(x_test)\n",
    "test_predictions_mob2 = np.argmax(test_predictions_mob2, axis=1)"
   ]
  },
  {
   "cell_type": "code",
   "execution_count": 100,
   "id": "4d65403c-5d56-4487-8473-e98c0c77c0e7",
   "metadata": {},
   "outputs": [
    {
     "name": "stdout",
     "output_type": "stream",
     "text": [
      "              precision    recall  f1-score   support\n",
      "\n",
      "           0       0.00      0.00      0.00       216\n",
      "           1       0.10      1.00      0.19       371\n",
      "           2       0.00      0.00      0.00       529\n",
      "           3       0.00      0.00      0.00       405\n",
      "           4       0.00      0.00      0.00        67\n",
      "           5       0.00      0.00      0.00       409\n",
      "           6       0.00      0.00      0.00       366\n",
      "           7       0.00      0.00      0.00       526\n",
      "           8       0.00      0.00      0.00       284\n",
      "           9       0.00      0.00      0.00       375\n",
      "\n",
      "    accuracy                           0.10      3548\n",
      "   macro avg       0.01      0.10      0.02      3548\n",
      "weighted avg       0.01      0.10      0.02      3548\n",
      "\n"
     ]
    },
    {
     "name": "stderr",
     "output_type": "stream",
     "text": [
      "C:\\Users\\First One\\anaconda3\\envs\\ayat\\Lib\\site-packages\\sklearn\\metrics\\_classification.py:1471: UndefinedMetricWarning: Precision and F-score are ill-defined and being set to 0.0 in labels with no predicted samples. Use `zero_division` parameter to control this behavior.\n",
      "C:\\Users\\First One\\anaconda3\\envs\\ayat\\Lib\\site-packages\\sklearn\\metrics\\_classification.py:1471: UndefinedMetricWarning: Precision and F-score are ill-defined and being set to 0.0 in labels with no predicted samples. Use `zero_division` parameter to control this behavior.\n",
      "C:\\Users\\First One\\anaconda3\\envs\\ayat\\Lib\\site-packages\\sklearn\\metrics\\_classification.py:1471: UndefinedMetricWarning: Precision and F-score are ill-defined and being set to 0.0 in labels with no predicted samples. Use `zero_division` parameter to control this behavior.\n"
     ]
    }
   ],
   "source": [
    "print(classification_report(y_test, test_predictions_mob2))"
   ]
  },
  {
   "cell_type": "code",
   "execution_count": null,
   "id": "3c3e1de3-ae07-44ba-b641-db74a84fdc02",
   "metadata": {},
   "outputs": [],
   "source": []
  }
 ],
 "metadata": {
  "kernelspec": {
   "display_name": "Python 3 (ipykernel)",
   "language": "python",
   "name": "python3"
  },
  "language_info": {
   "codemirror_mode": {
    "name": "ipython",
    "version": 3
   },
   "file_extension": ".py",
   "mimetype": "text/x-python",
   "name": "python",
   "nbconvert_exporter": "python",
   "pygments_lexer": "ipython3",
   "version": "3.11.7"
  }
 },
 "nbformat": 4,
 "nbformat_minor": 5
}
